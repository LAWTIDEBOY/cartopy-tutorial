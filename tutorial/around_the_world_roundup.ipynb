{
 "cells": [
  {
   "cell_type": "markdown",
   "metadata": {},
   "source": [
    "# Around the world in 80 ways - summary"
   ]
  },
  {
   "cell_type": "markdown",
   "metadata": {},
   "source": [
    "Having learnt about map projections, and their various trade-offs, we subsequently introduced cartopy's matplotlib interface for handling vector and raster data.\n",
    "\n",
    "We found the ``GeoAxes``'s ``imshow()`` and ``add_geometries()`` methods are just two of the ways of handling raster and vector data respectively. \n",
    "\n",
    "Finally, we looked at a number of approaches and tools that allowed us to interoperate between the two main classes of geospatial data. We used matplotlib, scikit-image, Iris and XArray to work with raster data, and Shapely and Fiona to work with vector data. Whilst most of these tools were never designed to handle Spherical data, cartopy gives us a means to work with it seamlessly."
   ]
  },
  {
   "cell_type": "markdown",
   "metadata": {},
   "source": [
    "The final excercise brings together much of what we have learnt to enhance the image published on Wikipedia:\n",
    "\n",
    "![Wikipedia route](../resources/640px-Around_the_World_in_Eighty_Days_map.png)"
   ]
  },
  {
   "cell_type": "markdown",
   "metadata": {},
   "source": [
    "**Exercise:** Re-create the Wikipedia image. Include:\n",
    " * Robinson projection\n",
    " * filled land & white ocean\n",
    " * the 1880 countries dataset (found in ``../resources/1880_countries/cntry1880.shp``)\n",
    " * place labels (font available in ``../resources/freebooter-font/FREEBSC_.ttf``)\n",
    " * the colored route (from the original wikipedia image)"
   ]
  },
  {
   "cell_type": "code",
   "execution_count": null,
   "metadata": {},
   "outputs": [],
   "source": [
    "# EXERCISE SOLUTION\n",
    "\n",
    "import cartopy.crs as ccrs\n",
    "import cartopy.io.shapereader as shpreader\n",
    "import matplotlib.pyplot as plt\n",
    "import numpy as np\n",
    "\n",
    "ax = plt.axes(projection=ccrs.Robinson(central_longitude=11.25))\n",
    "\n",
    "# countries\n",
    "fname = '../resources/1880_countries/cntry1880.shp'\n",
    "reader = shpreader.Reader(fname)\n",
    "light_gray = np.array([183, 183, 183]) / 255\n",
    "ax.add_geometries(list(reader.geometries()), ccrs.PlateCarree(),\n",
    "                  edgecolor='white', facecolor=light_gray, linewidth=0.2)\n",
    "\n",
    "ax.coastlines()\n",
    "\n",
    "plt.show()"
   ]
  },
  {
   "cell_type": "code",
   "execution_count": null,
   "metadata": {},
   "outputs": [],
   "source": []
  }
 ],
 "metadata": {
  "kernelspec": {
   "display_name": "Python 3",
   "language": "python",
   "name": "python3"
  },
  "language_info": {
   "codemirror_mode": {
    "name": "ipython",
    "version": 3
   },
   "file_extension": ".py",
   "mimetype": "text/x-python",
   "name": "python",
   "nbconvert_exporter": "python",
   "pygments_lexer": "ipython3",
   "version": "3.6.5"
  }
 },
 "nbformat": 4,
 "nbformat_minor": 2
}
