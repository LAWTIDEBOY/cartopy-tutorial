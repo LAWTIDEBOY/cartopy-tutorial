{
 "cells": [
  {
   "cell_type": "markdown",
   "metadata": {},
   "source": [
    "# Around the world in 80 ways - summary\n",
    "\n",
    "[Introduction](../../introduction.ipynb) > Round-up"
   ]
  },
  {
   "cell_type": "markdown",
   "metadata": {},
   "source": [
    "Having learnt about map projections, and their various trade-offs, we subsequently introduced the `cartopy` `matplotlib` interface for handling vector and raster data.\n",
    "\n",
    "We found the ``GeoAxes``'s ``imshow()`` and ``add_geometries()`` methods are just two of the ways of handling raster and vector data respectively. \n",
    "\n",
    "Finally, we looked at a number of approaches and tools that allowed us to interoperate between the two main classes of geospatial data. We used `matplotlib`, `scikit-image`, `iris` and `xarray` to work with raster data, and `shapely` and `fiona` to work with vector data. Whilst most of these tools were never designed to handle spherical data, `cartopy` gives us a means to work with it seamlessly.\n",
    "\n",
    "\n",
    "We hope this tutorial has given you a solid understanding of what `cartopy` is, though there remains so much more that we haven't covered. Including:\n",
    "\n",
    " * OGC web map (tile) service ingestion\n",
    " * Cartopy's Shuttle Radar Topography Mission interface\n",
    " * Web map tile creation\n",
    " * A (prototype) bridge to MapProxy for creating a WMS service \n",
    " * Vector field transforms (wind barbs, streamlines etc.)\n",
    " * More gridline control\n",
    " * Cartopy's SlippyImageArtist for drag-able on-the-fly re-rendering\n",
    " "
   ]
  },
  {
   "cell_type": "markdown",
   "metadata": {},
   "source": [
    "The final excercise brings together much of what we have learnt to reproduce the image published on Wikipedia:\n",
    "\n",
    "![Wikipedia route](../resources/640px-Around_the_World_in_Eighty_Days_map.png)"
   ]
  },
  {
   "cell_type": "markdown",
   "metadata": {},
   "source": [
    "**Exercise 6.1:** Re-create the Wikipedia image. Include:\n",
    " * Robinson projection with a central longitude of 11.25\n",
    " * the 1880 countries dataset (found in ``../resources/1880_countries/cntry1880.shp``) filled in gray\n",
    " * place labels using ``plt.text`` (a script font is available in ``../resources/freebooter-font/FREEBSC_.ttf``)\n",
    " * the route (the Great circles route. **Extension**: The extracted GeoJSON from the raster_to_vector section)"
   ]
  },
  {
   "cell_type": "code",
   "execution_count": null,
   "metadata": {},
   "outputs": [],
   "source": [
    "places = {'London': (-0.1276474, 51.5073219),\n",
    "          'Suez': (32.537086, 29.974498),\n",
    "          'Bombay': (72.8882172, 19.1334321),\n",
    "          'Calcutta': (88.3476023, 22.5677459),\n",
    "          'Hong Kong': (114.1628131, 22.2793278),\n",
    "          'Yokohama': (139.636768, 35.444991),\n",
    "          'San Francisco': (-122.4629897, 37.7647993),\n",
    "          'New York': (-73.9866136, 40.7306458)}"
   ]
  },
  {
   "cell_type": "code",
   "execution_count": null,
   "metadata": {},
   "outputs": [],
   "source": [
    "# EXERCISE 6.1 part 1:\n",
    "\n"
   ]
  },
  {
   "cell_type": "code",
   "execution_count": null,
   "metadata": {},
   "outputs": [],
   "source": [
    "%load solutions/exercise-6.1-part-1"
   ]
  },
  {
   "cell_type": "code",
   "execution_count": null,
   "metadata": {},
   "outputs": [],
   "source": [
    "# EXERCISE 6.1 part 2:\n",
    "\n"
   ]
  },
  {
   "cell_type": "code",
   "execution_count": null,
   "metadata": {},
   "outputs": [],
   "source": [
    "%load solutions/exercise-6.1-part-2"
   ]
  },
  {
   "cell_type": "code",
   "execution_count": null,
   "metadata": {},
   "outputs": [],
   "source": [
    "# EXERCISE 6.1 part 3:\n",
    "\n"
   ]
  },
  {
   "cell_type": "code",
   "execution_count": null,
   "metadata": {},
   "outputs": [],
   "source": [
    "%load solutions/exercise-6.1-part-3"
   ]
  },
  {
   "cell_type": "code",
   "execution_count": null,
   "metadata": {},
   "outputs": [],
   "source": [
    "# EXERCISE 6.1 part 3 extension:\n",
    "\n"
   ]
  },
  {
   "cell_type": "code",
   "execution_count": null,
   "metadata": {},
   "outputs": [],
   "source": [
    "%load solutions/exercise-6.1-part-3-extension"
   ]
  },
  {
   "cell_type": "markdown",
   "metadata": {
    "slideshow": {
     "slide_type": "slide"
    }
   },
   "source": [
    "## Acknowledgements\n",
    "\n",
    "* The open source \"geospatial\" stack!\n",
    "* Met Office for giving us time to work on `cartopy`\n",
    "* SciPy conference\n",
    "* Kelsey Jordahl's [SciPy 2015 tutorial](https://github.com/kjordahl/SciPy-Tutorial-2015)\n",
    "* Jules Verne and his wonderful book: [Around the world in 80 days](http://www.gutenberg.org/ebooks/103) (free!)\n",
    "\n",
    "\n",
    "## Sprint with us!\n",
    "\n",
    "We will be sprinting both days on `cartopy` related themes, please feel free to join us!"
   ]
  },
  {
   "cell_type": "code",
   "execution_count": null,
   "metadata": {},
   "outputs": [],
   "source": []
  }
 ],
 "metadata": {
  "kernelspec": {
   "display_name": "Python 3",
   "language": "python",
   "name": "python3"
  },
  "language_info": {
   "codemirror_mode": {
    "name": "ipython",
    "version": 3
   },
   "file_extension": ".py",
   "mimetype": "text/x-python",
   "name": "python",
   "nbconvert_exporter": "python",
   "pygments_lexer": "ipython3",
   "version": "3.6.5"
  }
 },
 "nbformat": 4,
 "nbformat_minor": 2
}
