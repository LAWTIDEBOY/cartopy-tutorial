{
 "cells": [
  {
   "cell_type": "markdown",
   "metadata": {},
   "source": [
    "# Around the world in 80 ways - summary\n",
    "\n",
    "[Introduction](../../introduction.ipynb) > Round-up"
   ]
  },
  {
   "cell_type": "markdown",
   "metadata": {},
   "source": [
    "Having learnt about map projections, and their various trade-offs, we subsequently introduced cartopy's matplotlib interface for handling vector and raster data.\n",
    "\n",
    "We found the ``GeoAxes``'s ``imshow()`` and ``add_geometries()`` methods are just two of the ways of handling raster and vector data respectively. \n",
    "\n",
    "Finally, we looked at a number of approaches and tools that allowed us to interoperate between the two main classes of geospatial data. We used matplotlib, scikit-image, Iris and XArray to work with raster data, and Shapely and Fiona to work with vector data. Whilst most of these tools were never designed to handle Spherical data, cartopy gives us a means to work with it seamlessly."
   ]
  },
  {
   "cell_type": "markdown",
   "metadata": {},
   "source": [
    "The final excercise brings together much of what we have learnt to reproduce the image published on Wikipedia:\n",
    "\n",
    "![Wikipedia route](../resources/640px-Around_the_World_in_Eighty_Days_map.png)"
   ]
  },
  {
   "cell_type": "markdown",
   "metadata": {},
   "source": [
    "**Exercise 6.1:** Re-create the Wikipedia image. Include:\n",
    " * Robinson projection with a central longitude of 11.25\n",
    " * the 1880 countries dataset (found in ``../resources/1880_countries/cntry1880.shp``) filled in gray\n",
    " * place labels using ``plt.text`` (a script font is available in ``../resources/freebooter-font/FREEBSC_.ttf``)\n",
    " * the route (the Great circles route. **Extension**: The extracted GeoJSON from the raster_to_vector section)"
   ]
  },
  {
   "cell_type": "code",
   "execution_count": null,
   "metadata": {},
   "outputs": [],
   "source": [
    "places = {'London': (-0.1276474, 51.5073219),\n",
    "          'Suez': (32.537086, 29.974498),\n",
    "          'Bombay': (72.8882172, 19.1334321),\n",
    "          'Calcutta': (88.3476023, 22.5677459),\n",
    "          'Hong Kong': (114.1628131, 22.2793278),\n",
    "          'Yokohama': (139.636768, 35.444991),\n",
    "          'San Francisco': (-122.4629897, 37.7647993),\n",
    "          'New York': (-73.9866136, 40.7306458)}"
   ]
  },
  {
   "cell_type": "code",
   "execution_count": null,
   "metadata": {},
   "outputs": [],
   "source": [
    "# EXERCISE 6.1 part 1:\n",
    "\n"
   ]
  },
  {
   "cell_type": "markdown",
   "metadata": {},
   "source": [
    "\n",
    "<details>\n",
    "    <summary style=\"margin-top: 1em; margin-left: 1em;\"><b>Click to show solution for 6.1 part 1</b></summary>\n",
    "<pre>\n",
    "%matplotlib notebook\n",
    "import cartopy.crs as ccrs\n",
    "import cartopy.io.shapereader as shpreader\n",
    "import matplotlib.pyplot as plt\n",
    "import numpy as np\n",
    "\n",
    "\n",
    "def create_axes():\n",
    "    plt.figure(figsize=(10, 6))\n",
    "    ax = plt.axes(\n",
    "        projection=ccrs.Robinson(central_longitude=11.25))\n",
    "    ax.set_global()\n",
    "    ax.outline_patch.set_edgecolor('white')\n",
    "    return ax\n",
    "\n",
    "    \n",
    "def add_1880_countries(ax):\n",
    "    # 1880 countries\n",
    "    fname = '../resources/1880_countries/cntry1880.shp'\n",
    "    reader = shpreader.Reader(fname)\n",
    "    light_gray = np.array([183, 183, 183]) / 255\n",
    "    ax.add_geometries(\n",
    "        list(reader.geometries()), ccrs.PlateCarree(),\n",
    "        edgecolor='white', facecolor=light_gray, linewidth=0.2)\n",
    "\n",
    "\n",
    "ax = create_axes()\n",
    "add_1880_countries(ax)\n",
    "plt.show()\n",
    "</pre>\n",
    "</details>"
   ]
  },
  {
   "cell_type": "code",
   "execution_count": null,
   "metadata": {},
   "outputs": [],
   "source": [
    "# EXERCISE 6.1 part 2:\n",
    "\n"
   ]
  },
  {
   "cell_type": "markdown",
   "metadata": {},
   "source": [
    "\n",
    "<details>\n",
    "    <summary style=\"margin-top: 1em; margin-left: 1em;\"><b>Click to show solution for 6.1 part 2</b></summary>\n",
    "<pre>\n",
    "import matplotlib.font_manager as fm\n",
    "\n",
    "\n",
    "def add_fancy_labels(ax):\n",
    "    fpath = \"../resources/freebooter-font/FREEBSC_.ttf\"\n",
    "    prop = fm.FontProperties(fname=fpath)\n",
    "    \n",
    "    # Define some pretty text alignments for the labels.\n",
    "    # Nothing automatic here, it is all done by hand:\n",
    "    labels = {'London': {'ha': 'center', 'va': 'bottom'},\n",
    "              'Suez': {'ha': 'center', 'va': 'bottom'},\n",
    "              'Bombay': {'ha': 'right', 'va': 'bottom'},\n",
    "              'Calcutta': {'ha': 'center', 'va': 'bottom'},\n",
    "              'Hong Kong': {'ha': 'left', 'va': 'top'},\n",
    "              'Yokohama': {'ha': 'center', 'va': 'bottom'},\n",
    "              'San Francisco': {'ha': 'center', 'va': 'bottom'},\n",
    "              'New York': {'ha': 'center', 'va': 'top'},\n",
    "             }\n",
    "\n",
    "    for place, kwargs in labels.items():\n",
    "        lon, lat = places[place]\n",
    "        ax.plot(lon, lat, 'ok', transform=ccrs.PlateCarree())\n",
    "        ax.text(lon, lat, ' {} '.format(place), transform=ccrs.PlateCarree(),\n",
    "                fontproperties=prop, fontsize=16, weight='black',\n",
    "                **kwargs)\n",
    "        \n",
    "ax = create_axes()\n",
    "add_1880_countries(ax)\n",
    "add_fancy_labels(ax)\n",
    "plt.show()\n",
    "</pre>\n",
    "</details>"
   ]
  },
  {
   "cell_type": "code",
   "execution_count": null,
   "metadata": {},
   "outputs": [],
   "source": [
    "# EXERCISE 6.1 part 3:\n",
    "\n"
   ]
  },
  {
   "cell_type": "markdown",
   "metadata": {},
   "source": [
    "\n",
    "<details>\n",
    "    <summary style=\"margin-top: 1em; margin-left: 1em;\"><b>Click to show solution for 6.1 part 3</b></summary>\n",
    "<pre>\n",
    "# EXERCISE 6.1 part 3:\n",
    "\n",
    "\n",
    "import shapely.geometry as sgeom\n",
    "    \n",
    "def draw_route(ax):\n",
    "    destinations = [\n",
    "        'London', 'Suez', 'Bombay', 'Calcutta', 'Hong Kong',\n",
    "        'Yokohama', 'San Francisco', 'New York', 'London']\n",
    "\n",
    "    coords = np.stack([places[place] for place in destinations])\n",
    "    route = sgeom.LineString(coords)\n",
    "    ax.add_geometries(\n",
    "        [route], ccrs.Geodetic(),\n",
    "        edgecolor='blue', facecolor='none', linewidth=2)\n",
    "        \n",
    "ax = create_axes()\n",
    "add_1880_countries(ax)\n",
    "add_fancy_labels(ax)\n",
    "draw_route(ax)\n",
    "\n",
    "plt.show()\n",
    "</pre>\n",
    "</details>"
   ]
  },
  {
   "cell_type": "code",
   "execution_count": null,
   "metadata": {},
   "outputs": [],
   "source": [
    "# EXERCISE 6.1 part 3 extension:\n",
    "\n"
   ]
  },
  {
   "cell_type": "markdown",
   "metadata": {},
   "source": [
    "\n",
    "<details>\n",
    "    <summary style=\"margin-top: 1em; margin-left: 1em;\"><b>Click to show solution for 6.1 part 3 extension</b></summary>\n",
    "<pre>\n",
    "\n",
    "import json\n",
    "from shapely.geometry import mapping, shape\n",
    "\n",
    "\n",
    "def draw_route_geojson(ax):\n",
    "    route_geojson = 'geospatial/route.geojson'\n",
    "\n",
    "    # Extension: The ``route.geojson`` created in raster to vector.\n",
    "    with open(route_geojson, 'r') as fh:\n",
    "        route = shape(json.load(fh))\n",
    "    ax.add_geometries([route], ccrs.PlateCarree(),\n",
    "                      edgecolor='blue', facecolor='none', linewidth=2)\n",
    "\n",
    "\n",
    "ax = create_axes()\n",
    "add_1880_countries(ax)\n",
    "add_fancy_labels(ax)\n",
    "draw_route_geojson(ax)\n",
    "</pre>\n",
    "</details>"
   ]
  },
  {
   "cell_type": "markdown",
   "metadata": {},
   "source": [
    "## Acknowledgements\n",
    "\n",
    "* The open source \"geospatial\" stack!\n",
    "* Met Office for giving us time to work on cartopy\n",
    "* SciPy conference\n",
    "* Kelsey Jordahl's [SciPy 2015 tutorial](https://github.com/kjordahl/SciPy-Tutorial-2015)\n",
    "* Jules Verne and his wonderful book: [Around the world in 80 days](http://www.gutenberg.org/ebooks/103) (free!)"
   ]
  }
 ],
 "metadata": {
  "kernelspec": {
   "display_name": "Python 3",
   "language": "python",
   "name": "python3"
  },
  "language_info": {
   "codemirror_mode": {
    "name": "ipython",
    "version": 3
   },
   "file_extension": ".py",
   "mimetype": "text/x-python",
   "name": "python",
   "nbconvert_exporter": "python",
   "pygments_lexer": "ipython3",
   "version": "3.6.5"
  }
 },
 "nbformat": 4,
 "nbformat_minor": 2
}
