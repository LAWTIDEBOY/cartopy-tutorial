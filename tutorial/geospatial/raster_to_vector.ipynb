{
 "cells": [
  {
   "cell_type": "markdown",
   "metadata": {},
   "source": [
    "# Cartopy tutorial: Transforming raster to vector"
   ]
  },
  {
   "cell_type": "markdown",
   "metadata": {},
   "source": [
    "The most common raster to vector transformation is contouring. In addition to that though, there are a number of image processing techniques for identifying features of interest.\n",
    "\n",
    "\n",
    "### Contouring\n",
    "Let's start with contouring:"
   ]
  },
  {
   "cell_type": "code",
   "execution_count": null,
   "metadata": {},
   "outputs": [],
   "source": [
    "import cartopy.crs as ccrs\n",
    "from cartopy.examples.waves import sample_data\n",
    "import matplotlib.pyplot as plt\n",
    "\n",
    "lons, lats, data = sample_data()\n",
    "\n",
    "ax = plt.axes(projection=ccrs.PlateCarree())\n",
    "cs = plt.contourf(\n",
    "    lons, lats, data, 5,\n",
    "    transform=ccrs.PlateCarree())\n",
    "ax.coastlines()\n",
    "plt.colorbar(orientation='horizontal')\n",
    "plt.show()"
   ]
  },
  {
   "cell_type": "markdown",
   "metadata": {},
   "source": [
    "Let's pick out one of these contours. We could choose to pick out a line (``contour``) or a polygon (``contourf``).\n",
    "Since we have already produced filled contours, let's use those:"
   ]
  },
  {
   "cell_type": "code",
   "execution_count": null,
   "metadata": {},
   "outputs": [],
   "source": [
    "print(cs.levels)\n",
    "print('N levels: {}'.format(len(cs.levels)))\n",
    "print('N collections: {}'.format(len(cs.collections)))"
   ]
  },
  {
   "cell_type": "code",
   "execution_count": null,
   "metadata": {},
   "outputs": [],
   "source": [
    "print(cs.levels[4:6])\n",
    "print(cs.collections[4])\n",
    "paths = cs.collections[4].get_paths()"
   ]
  },
  {
   "cell_type": "markdown",
   "metadata": {},
   "source": [
    "We now need to convert these matplotlib Paths into Shapely geometries. The [``descartes``](https://pypi.org/project/descartes/) package is designed to do precisely this, but cartopy also has such functionality that has been tuned for performance:"
   ]
  },
  {
   "cell_type": "code",
   "execution_count": null,
   "metadata": {},
   "outputs": [],
   "source": [
    "from cartopy.mpl.patch import path_to_geos\n",
    "import shapely.ops\n",
    "\n",
    "# Produces a list of shapely geometries.\n",
    "geoms = []\n",
    "for path in paths:\n",
    "    geoms.extend(path_to_geos(path))\n",
    "\n",
    "# Flatten the whole thing down to a single MultiPolygon\n",
    "polygon = shapely.ops.unary_union(geoms)\n",
    "polygon"
   ]
  },
  {
   "cell_type": "markdown",
   "metadata": {},
   "source": [
    "We could use this geometry for any number of vector-type operations, but for now, let's just save it to disk. GeoJSON is a good choice for this kind of geometry - GeoJSON has become ubiquitous on the internet for its simpliciy and its interoperability with a number of popular tools/frameworks (including GitHub)."
   ]
  },
  {
   "cell_type": "code",
   "execution_count": null,
   "metadata": {},
   "outputs": [],
   "source": [
    "import json\n",
    "import shapely.geometry as sgeom\n",
    "\n",
    "with open('contour.geojson', 'w') as fh:\n",
    "    json.dump(sgeom.mapping(polygon), fh)"
   ]
  },
  {
   "cell_type": "markdown",
   "metadata": {},
   "source": [
    "We've uploaded this geojson to a GitHub gist to show how GitHub renders this file: https://gist.github.com/pelson/837ca8c01d38157a2d634dcf97260e45"
   ]
  },
  {
   "cell_type": "markdown",
   "metadata": {},
   "source": [
    "Be aware that the GeoJSON specification states that geometries MUST be saved in WGS84. The default PlateCarree instance is in fact equivalent to WGS84, so in this case we didn't need to convert the geometry. If had needed to convert it we could project the geometry with ``ccrs.PlateCarree().project_geometry(geometry, source_crs)``."
   ]
  },
  {
   "cell_type": "markdown",
   "metadata": {},
   "source": [
    "### Data space vs pixel space\n",
    "\n",
    "So far we have used ``matplotlib.contour[f]`` to produce our contours, which conveniently returns contours in *data* coordinates. Sometimes we want to use tools that don't work in coordinate space, and which simply return pixel locations.\n",
    "\n",
    "One of the most basic examples of this is numpy's ``where`` function. Let's use that to identify the yellow sections from the Wikipedia image below:\n",
    "\n",
    "![Wikipedia route around the world](../../resources/640px-Around_the_World_in_Eighty_Days_map.png)"
   ]
  },
  {
   "cell_type": "code",
   "execution_count": null,
   "metadata": {},
   "outputs": [],
   "source": [
    "import numpy as np\n",
    "import skimage.io\n",
    "\n",
    "# Image has shape: (y: 296, x: 640, RGBA: 4)\n",
    "atw80d = skimage.io.imread(\n",
    "    '../../resources/640px-Around_the_World_in_Eighty_Days_map.png')\n",
    "\n",
    "yellowish = ((atw80d[:, :, 0] > 200) &  # Lots of Red.\n",
    "             (atw80d[:, :, 1] > 200) &  # Lots of Green.\n",
    "             (atw80d[:, :, 2] < 100) &  # Not lots of Blue.\n",
    "             (atw80d[:, :, 3] > 250))   # Not transparent.\n",
    "\n",
    "ind_y, ind_x = np.where(yellowish)\n",
    "print('Number of yellow-ish pixels: ', len(ind_x))\n",
    "print('x indexes: ', ind_x)\n",
    "print('y indexes: ', ind_y)"
   ]
  },
  {
   "cell_type": "markdown",
   "metadata": {},
   "source": [
    "Conversion between pixel locations and data locations is currently quite manual, but the following function will allow us to go from pixel centers to data coordinates:"
   ]
  },
  {
   "cell_type": "code",
   "execution_count": null,
   "metadata": {},
   "outputs": [],
   "source": [
    "def pixels_to_data(extent, shape, i, j):\n",
    "    \"\"\"Converts from coordinates of the array to data coordinates.\"\"\"\n",
    "    xmin, xmax, ymin, ymax = extent\n",
    "    x_range = xmax - xmin\n",
    "    y_range = ymax - ymin\n",
    "    \n",
    "    pix_width = x_range / shape[1]\n",
    "    pix_height = y_range / shape[0]\n",
    "\n",
    "    # For y handle the fact that the image's pixels\n",
    "    # start at the top (in mpl that is what origin='upper' means).\n",
    "    j = shape[0] - j\n",
    "\n",
    "    return (xmin + pix_width * (i + 0.5),\n",
    "            ymin + pix_height * (j + 0.5))"
   ]
  },
  {
   "cell_type": "markdown",
   "metadata": {},
   "source": [
    "If we feed in the image extent and the x and y indices computed using ``np.where``, we get the pixel location in the coordinate system of the image (Robinson):"
   ]
  },
  {
   "cell_type": "code",
   "execution_count": null,
   "metadata": {},
   "outputs": [],
   "source": [
    "# Use the extents computed in an earlier exercise.\n",
    "extent = [-13639040, 17156514, -6321250, 8621343]\n",
    "\n",
    "# Note: Data coords in Robinson.\n",
    "xs, ys = pixels_to_data(\n",
    "    extent, atw80d.shape,\n",
    "    ind_x, ind_y)\n",
    "\n",
    "print('Last 3 x coordinates (Robinson): ', xs[-3:])\n",
    "print('Last 3 y coordinates (Robinson): ', ys[-3:])"
   ]
  },
  {
   "cell_type": "markdown",
   "metadata": {},
   "source": [
    "Now that we have the coordinates, let's plot the pixels we have identified:"
   ]
  },
  {
   "cell_type": "code",
   "execution_count": null,
   "metadata": {},
   "outputs": [],
   "source": [
    "%matplotlib notebook\n",
    "plt.figure()\n",
    "\n",
    "rob = ccrs.Robinson(central_longitude=11.25)\n",
    "ax = plt.axes(projection=rob)\n",
    "\n",
    "ax.gridlines(color='gray', linestyle='--')\n",
    "ax.coastlines()\n",
    "ax.imshow(atw80d, extent=extent,\n",
    "          transform=rob, origin='upper')\n",
    "ax.set_global()\n",
    "\n",
    "plt.plot(xs, ys, transform=rob,\n",
    "         linestyle='none', marker='o',\n",
    "         markeredgecolor='k', color='yellow')\n",
    "plt.show()"
   ]
  },
  {
   "cell_type": "markdown",
   "metadata": {},
   "source": [
    "Let's take this a step further and use skimage to pull out the track:"
   ]
  },
  {
   "cell_type": "code",
   "execution_count": null,
   "metadata": {},
   "outputs": [],
   "source": [
    "# <insert Juan's work>"
   ]
  },
  {
   "cell_type": "markdown",
   "metadata": {},
   "source": [
    "Exercise: Extract contours from a raster, save to GeoJSON."
   ]
  },
  {
   "cell_type": "markdown",
   "metadata": {},
   "source": [
    "*Exercise:* Pull out the route from the wikipedia image."
   ]
  },
  {
   "cell_type": "markdown",
   "metadata": {},
   "source": [
    "*Exercise:* Project the geometry to PC, so that we can save it to GeoJSON."
   ]
  }
 ],
 "metadata": {
  "kernelspec": {
   "display_name": "Python 3",
   "language": "python",
   "name": "python3"
  },
  "language_info": {
   "codemirror_mode": {
    "name": "ipython",
    "version": 3
   },
   "file_extension": ".py",
   "mimetype": "text/x-python",
   "name": "python",
   "nbconvert_exporter": "python",
   "pygments_lexer": "ipython3",
   "version": "3.6.5"
  }
 },
 "nbformat": 4,
 "nbformat_minor": 2
}
