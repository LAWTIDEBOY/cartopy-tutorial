{
 "cells": [
  {
   "cell_type": "markdown",
   "metadata": {},
   "source": [
    "# Cartopy tutorial: Transforming vector to vector\n",
    "\n",
    "[Introduction](../../introduction.ipynb) > [Geospatial data](../geospatial_data.ipynb) > Vector to vector"
   ]
  },
  {
   "cell_type": "markdown",
   "metadata": {},
   "source": [
    "## Transforming coordinate values (points)\n",
    "Conversion of a point in one coordinate system to another is an example of a vector-to-vector transformation.\n",
    "\n",
    "In cartopy we can convert points from one coordinate system to another using the [transform_point](https://scitools.org.uk/cartopy/docs/latest/crs/index.html#cartopy.crs.CRS.transform_point) and [transform_points](https://scitools.org.uk/cartopy/docs/latest/crs/index.html#cartopy.crs.CRS.transform_points) methods on a CRS."
   ]
  },
  {
   "cell_type": "code",
   "execution_count": null,
   "metadata": {},
   "outputs": [],
   "source": [
    "import cartopy.crs as ccrs"
   ]
  },
  {
   "cell_type": "code",
   "execution_count": null,
   "metadata": {},
   "outputs": [],
   "source": [
    "osgb = ccrs.OSGB()\n",
    "geod = ccrs.Geodetic()\n",
    "\n",
    "# Convert from Ordnance Survey GB to lon/lat:\n",
    "easting = 291813.424\n",
    "northing = 92098.387\n",
    "\n",
    "lon, lat = geod.transform_point(\n",
    "    x=easting, y=northing, src_crs=osgb)\n",
    "print(lon, lat)"
   ]
  },
  {
   "cell_type": "markdown",
   "metadata": {},
   "source": [
    "## Projecting lines\n",
    "\n",
    "When it comes to \"transforming\" a line or other geometry, we could choose to manually transform each of the vertices, but that requires us to deal with things like the antimeridian and appropriate interpolation.\n",
    "\n",
    "Cartopy has functionality specifically designed for this purpose. It uses a numerical tolerance to determine appropriate interpolation and whether to \"cut\" a line because it crossed the antimeridian or a map boundary.\n",
    "\n",
    "Because this is a numerical approximation and not an exact transformation, the name of the method on a cartopy Projection is [project_geometry](https://scitools.org.uk/cartopy/docs/latest/crs/index.html#cartopy.crs.Projection.project_geometry):"
   ]
  },
  {
   "cell_type": "code",
   "execution_count": null,
   "metadata": {},
   "outputs": [],
   "source": [
    "import shapely.geometry as sgeom\n",
    "\n",
    "new_york = [-74.0060, 40.7128]\n",
    "honolulu = [-157.8583, 21.3069]\n",
    "\n",
    "line = sgeom.LineString([new_york, honolulu])\n",
    "pc = ccrs.PlateCarree()\n",
    "\n",
    "lines = pc.project_geometry(line, pc)\n",
    "lines"
   ]
  },
  {
   "cell_type": "markdown",
   "metadata": {},
   "source": [
    "That wasn't too exciting, but let's take a look at it on a map:"
   ]
  },
  {
   "cell_type": "code",
   "execution_count": null,
   "metadata": {},
   "outputs": [],
   "source": [
    "%matplotlib notebook\n",
    "import matplotlib.pyplot as plt\n",
    "\n",
    "plt.figure()\n",
    "ax = plt.axes(projection=pc)\n",
    "ax.add_geometries(\n",
    "    [lines], pc,\n",
    "    edgecolor='blue', facecolor='none', lw=2)\n",
    "ax.coastlines()\n",
    "plt.show()"
   ]
  },
  {
   "cell_type": "markdown",
   "metadata": {},
   "source": [
    "If we wanted to represent the line as a great circle rather than a straight line in projected (Plate Carree) space we can change the source CRS to Geodetic:"
   ]
  },
  {
   "cell_type": "code",
   "execution_count": null,
   "metadata": {},
   "outputs": [],
   "source": [
    "# Project the Geodetic line to PlateCarree\n",
    "# coordinates (including an interpolation).\n",
    "lines = pc.project_geometry(line, geod)\n",
    "\n",
    "plt.figure()\n",
    "ax = plt.axes(projection=pc)\n",
    "ax.add_geometries(\n",
    "    [lines], pc,\n",
    "    edgecolor='blue', facecolor='none', lw=2)\n",
    "ax.coastlines()\n",
    "plt.show()"
   ]
  },
  {
   "cell_type": "markdown",
   "metadata": {},
   "source": [
    "**Exercise 4.1**: Construct a LineString between Yokohama (139.64, 35.44) and San Fransisco (-122.42, 37.77).\n",
    "Project this line using ``project_geometry`` using both Plate Carree and Geodetic as the source coordinate system. Plot the lines using cartopy and observe how they differ.\n",
    "\n",
    "*Extension*: Devise a way of constructing the LineString such that it crosses the antimeridian when using ``project_geometry`` and Plate Carree."
   ]
  },
  {
   "cell_type": "code",
   "execution_count": null,
   "metadata": {},
   "outputs": [],
   "source": [
    "# EXERCISE 4.1:\n",
    "\n"
   ]
  },
  {
   "cell_type": "code",
   "execution_count": null,
   "metadata": {},
   "outputs": [],
   "source": [
    "%load ../solutions/exercise-4.1"
   ]
  },
  {
   "cell_type": "code",
   "execution_count": null,
   "metadata": {},
   "outputs": [],
   "source": [
    "# EXERCISE 4.1 extension\n",
    "\n"
   ]
  },
  {
   "cell_type": "code",
   "execution_count": null,
   "metadata": {},
   "outputs": [],
   "source": [
    "%load ../solutions/exercise-4.1-extension"
   ]
  },
  {
   "cell_type": "markdown",
   "metadata": {},
   "source": [
    "## Projecting geometries\n",
    "\n",
    "Projecting geometries is much the same as projecting lines. Let's construct a circle of radius 20 degrees to demonstrate:"
   ]
  },
  {
   "cell_type": "code",
   "execution_count": null,
   "metadata": {},
   "outputs": [],
   "source": [
    "import numpy as np\n",
    "\n",
    "npts = 20\n",
    "radius = 20\n",
    "phi = np.linspace(0, 2*np.pi, npts)\n",
    "coords = np.stack([np.cos(phi), np.sin(phi)], axis=-1)\n",
    "circle = sgeom.Polygon(coords * radius)\n",
    "circle"
   ]
  },
  {
   "cell_type": "code",
   "execution_count": null,
   "metadata": {},
   "outputs": [],
   "source": [
    "prj_circle = pc.project_geometry(circle, geod)\n",
    "prj_circle"
   ]
  },
  {
   "cell_type": "markdown",
   "metadata": {},
   "source": [
    "To really see the power of this, let's project this geometry to a Plate Carree shifted by 180 degrees:"
   ]
  },
  {
   "cell_type": "code",
   "execution_count": null,
   "metadata": {},
   "outputs": [],
   "source": [
    "pc_180 = ccrs.PlateCarree(central_longitude=180)\n",
    "prj_circle = pc_180.project_geometry(circle, geod)\n",
    "prj_circle"
   ]
  },
  {
   "cell_type": "markdown",
   "metadata": {},
   "source": [
    "See how cartopy has realised that it needs to cut the circle up. We can see precicely why when we look at the map:"
   ]
  },
  {
   "cell_type": "code",
   "execution_count": null,
   "metadata": {},
   "outputs": [],
   "source": [
    "plt.figure()\n",
    "ax = plt.axes(projection=pc_180)\n",
    "ax.add_geometries(\n",
    "    [prj_circle], pc_180,\n",
    "    edgecolor='blue', facecolor='blue', alpha=0.2)\n",
    "ax.coastlines()\n",
    "plt.show()"
   ]
  },
  {
   "cell_type": "markdown",
   "metadata": {},
   "source": [
    "On the sphere the winding order of a polygon is important. Cartopy uses a counter-clockwise (CCW) winding order to be consistent with the [simple geometries](https://gis.stackexchange.com/a/147971/9354) conventions. If we reverse the order of the circle's coordinates and project that, we get a very different (but equally valid) polygon:"
   ]
  },
  {
   "cell_type": "code",
   "execution_count": null,
   "metadata": {},
   "outputs": [],
   "source": [
    "inverse_circle = sgeom.Polygon(coords[::-1] * radius)\n",
    "pc_180 = ccrs.PlateCarree(central_longitude=180)\n",
    "pc_180.project_geometry(inverse_circle, geod)"
   ]
  },
  {
   "cell_type": "markdown",
   "metadata": {},
   "source": [
    "## Geographical distances (Geodesic distances)"
   ]
  },
  {
   "cell_type": "markdown",
   "metadata": {},
   "source": [
    "Another common vector-to-vector transformation is to compute distances between two points on the sphere.\n",
    "\n",
    "Cartopy wraps [GeographicLib](https://sourceforge.net/projects/geographiclib/) in ``cartopy.geodesic`` to give this functionality.\n",
    "(**Note**: this interface is entirely undocumented, and it *could* change in the future)\n",
    "\n",
    "In general, it is possible to [reduce geodesic problems](https://en.wikipedia.org/wiki/Geodesics_on_an_ellipsoid#Geodesics_on_an_ellipsoid_of_revolution) into one of two types:\n",
    "* the **direct geodesic problem**, given an end-point, [forward-azimuth](https://www.youtube.com/watch?v=E4peQBZd8v4) and geodesic length, determine the destination end-point and its forward-azimuth\n",
    "* the **inverse geodesic problem**, given two end-points, determine the connecting geodesic length and associated forward-azimuths\n",
    "\n",
    "We will use the *inverse geodesic solution* to determine the distances between points on a sphere."
   ]
  },
  {
   "cell_type": "code",
   "execution_count": null,
   "metadata": {},
   "outputs": [],
   "source": [
    "import cartopy.geodesic\n",
    "\n",
    "geod = cartopy.geodesic.Geodesic()\n",
    "\n",
    "nyc = [-73.9866136, 40.7306458]\n",
    "london = [-0.1276474, 51.5073219]\n",
    "\n",
    "# Solve the \"inverse\" Geodetic problem to compute the distance\n",
    "# between two points. This solution is more accurate than\n",
    "# the traditional Vincenty formulation.\n",
    "distance, azi_0, azi_1 = np.array(geod.inverse(nyc, london).T)\n",
    "\n",
    "print('Geodesic distance between NYC and London: {:.0f}km'\n",
    "      .format(distance[0] / 1000))"
   ]
  },
  {
   "cell_type": "markdown",
   "metadata": {},
   "source": [
    "We can compute multiple distances at the same time. Let's use that to compute distances along a line:"
   ]
  },
  {
   "cell_type": "code",
   "execution_count": null,
   "metadata": {},
   "outputs": [],
   "source": [
    "san_fran = [-122.4629897, 37.7647993]\n",
    "track = [san_fran, nyc, london]\n",
    "\n",
    "distances, azi_0, azi_1 = np.array(\n",
    "    geod.inverse(track[:-1], track[1:]).T)\n",
    "\n",
    "print('Segment distances (m): ', distances)\n",
    "\n",
    "print('Geodesic distance between San Fransisco and '\n",
    "      'London (via NYC): {:.0f}km'\n",
    "      .format(distances.sum() / 1000))"
   ]
  },
  {
   "cell_type": "markdown",
   "metadata": {},
   "source": [
    "**Exercise 4.2**: Given that Fogg travels through each of the places in given dictionary of places, what is the minimum approximate average speed (in km/h) that Fogg must travel in order to achieve his 80 day target?\n",
    "\n",
    "*Reminder:* Fogg plans to depart from London, and his main stops are planned to be: Suez, Bombay, Calcutta, Hong-Kong, Yokohama, San Fransisco, New York City, London.\n",
    "\n",
    "*Extension*: Assuming Fogg plans to arrive after exactly 80 days, and that he travels at a constant speed along the route, compute how many days into his journey he will be when he arrives at each of the main stops."
   ]
  },
  {
   "cell_type": "code",
   "execution_count": null,
   "metadata": {},
   "outputs": [],
   "source": [
    "# Some approximate locations of each of the cities are provided.\n",
    "places = {'London': {'lon': -0.1278, 'lat': 51.5074},\n",
    "          'Suez': {'lon': 32.5498, 'lat': 29.9668},\n",
    "          'Bombay': {'lon': 72.8777, 'lat': 19.0760},\n",
    "          'Calcutta': {'lon': 88.3639, 'lat': 22.5726},\n",
    "          'Hong Kong': {'lon': 114.1095, 'lat': 22.3964},\n",
    "          'Yokohama': {'lon': 139.6380, 'lat': 35.4437},\n",
    "          'San Fransisco': {'lon': -122.4194, 'lat': 37.7749},\n",
    "          'New York City': {'lon': -74.0060, 'lat': 40.7128},\n",
    "         }"
   ]
  },
  {
   "cell_type": "code",
   "execution_count": null,
   "metadata": {},
   "outputs": [],
   "source": [
    "# EXERCISE 4.2:\n",
    "\n"
   ]
  },
  {
   "cell_type": "code",
   "execution_count": null,
   "metadata": {},
   "outputs": [],
   "source": [
    "%load ../solutions/exercise-4.2"
   ]
  },
  {
   "cell_type": "code",
   "execution_count": null,
   "metadata": {},
   "outputs": [],
   "source": [
    "# EXERCISE 4.2 extension:\n",
    "\n"
   ]
  },
  {
   "cell_type": "code",
   "execution_count": null,
   "metadata": {},
   "outputs": [],
   "source": [
    "%load ../solutions/exercise-4.2-extension"
   ]
  },
  {
   "cell_type": "markdown",
   "metadata": {},
   "source": [
    "### Geometry predicates (intersection)"
   ]
  },
  {
   "cell_type": "markdown",
   "metadata": {},
   "source": [
    "We can bring all that we've learnt together to answer the question \"If Fogg travelled the shortest distance between each of the main stopping points, how much of the route is over land?\".\n",
    "\n",
    "Let's first create a [shapely.geometry.LineString](http://shapely.readthedocs.io/en/stable/manual.html#LineString) that represents the route as a collection of *great circles*."
   ]
  },
  {
   "cell_type": "code",
   "execution_count": null,
   "metadata": {},
   "outputs": [],
   "source": [
    "import shapely.geometry as sgeom\n",
    "import cartopy.crs as ccrs\n",
    "\n",
    "destinations = [\n",
    "    'London', 'Suez', 'Bombay', 'Calcutta', 'Hong Kong',\n",
    "    'Yokohama', 'San Fransisco', 'New York City', 'London']\n",
    "\n",
    "waypoints = [(places[place]['lon'], places[place]['lat'])\n",
    "             for place in destinations]\n",
    "\n",
    "line = sgeom.LineString(waypoints)\n",
    "pc = ccrs.PlateCarree()\n",
    "\n",
    "foggs_plan = pc.project_geometry(line, ccrs.Geodetic())\n",
    "foggs_plan"
   ]
  },
  {
   "cell_type": "markdown",
   "metadata": {},
   "source": [
    "Now, let's get hold of a set of geometries that represent \"land\". Cartopy has convenience routines to help us do that, but let's start with the manual approach:"
   ]
  },
  {
   "cell_type": "code",
   "execution_count": null,
   "metadata": {},
   "outputs": [],
   "source": [
    "import cartopy.io.shapereader as shpreader\n",
    "import shapely.geometry as sgeom\n",
    "\n",
    "land_shp_fname = '../../resources/land/ne_110m_land.shp'\n",
    "# Cartopy actually has a convenient interface to auto-download\n",
    "# this (and many other) file(s) if we want.\n",
    "# land_shp_fname = cartopy.io.shapereader.natural_earth(\n",
    "#     resolution='110m', category='physical', name='land')\n",
    "\n",
    "land_geoms = list(shpreader.Reader(land_shp_fname).geometries())"
   ]
  },
  {
   "cell_type": "markdown",
   "metadata": {},
   "source": [
    "Now, let's combine this collection of geometries into a single shapely MultiPolygon using [shapely.ops.unary_union](http://shapely.readthedocs.io/en/stable/manual.html#shapely.ops.unary_union). This actually results in an invalid geometry - it isn't clear if this is a problem with the dataset or the underlying geometry library, but either way a quick fix is to \"buffer the geometry by 0\"."
   ]
  },
  {
   "cell_type": "code",
   "execution_count": null,
   "metadata": {},
   "outputs": [],
   "source": [
    "from shapely.ops import unary_union\n",
    "\n",
    "land = unary_union(land_geoms).buffer(0)\n",
    "land"
   ]
  },
  {
   "cell_type": "markdown",
   "metadata": {},
   "source": [
    "Finally we are ready to start using this geometry:"
   ]
  },
  {
   "cell_type": "code",
   "execution_count": null,
   "metadata": {},
   "outputs": [],
   "source": [
    "foggs_land_plan = land.intersection(foggs_plan)\n",
    "foggs_land_plan"
   ]
  },
  {
   "cell_type": "code",
   "execution_count": null,
   "metadata": {},
   "outputs": [],
   "source": [
    "import numpy as np\n",
    "import cartopy.geodesic\n",
    "\n",
    "def linestring_distance(geometry):\n",
    "    \"\"\"\n",
    "    A function that returns the geodetic distance of a [Multi]LineString\n",
    "    \n",
    "    \"\"\"\n",
    "    ls_type = (sgeom.LineString, sgeom.MultiLineString)\n",
    "    if not isinstance(geometry, ls_type):\n",
    "        raise TypeError('The given geometry is not a [Multi]LineString')\n",
    "\n",
    "    if isinstance(geometry, sgeom.MultiLineString):\n",
    "        return sum(linestring_distance(geom) for geom in geometry.geoms)\n",
    "    else:\n",
    "        coords = np.array(geometry.coords)\n",
    "        geod = cartopy.geodesic.Geodesic()\n",
    "        distances, azi_0, azi_1 = np.array(\n",
    "            geod.inverse(coords[:-1], coords[1:]).T)\n",
    "        return distances.sum()"
   ]
  },
  {
   "cell_type": "markdown",
   "metadata": {},
   "source": [
    "**Exercise 4.3: ** Using the function above, calculate the distance of the planned route over land.\n",
    "\n",
    "For completeness, we've added additional material in the [appendix](../../appendix/vector_to_vector/1880_countries_route.ipynb) that briefly discusses the cartopy shapefile reader interface, which you can explore in your own time."
   ]
  },
  {
   "cell_type": "code",
   "execution_count": null,
   "metadata": {},
   "outputs": [],
   "source": [
    "# EXERCISE 4.3:\n",
    "\n"
   ]
  },
  {
   "cell_type": "code",
   "execution_count": null,
   "metadata": {},
   "outputs": [],
   "source": [
    "%load ../solutions/exercise-4.3"
   ]
  },
  {
   "cell_type": "markdown",
   "metadata": {},
   "source": [
    "For completeness, we've added additional material in the [appendix](../../appendix/vector_to_vector/1880_countries_route.ipynb) that briefly discusses the cartopy shapefile reader interface, which you can explore in your own time."
   ]
  },
  {
   "cell_type": "markdown",
   "metadata": {},
   "source": [
    "## Rendering vector data in the browser\n",
    "\n",
    "Given the route as a geometry, it is easy to produce a quick interactive web map using [folium](https://github.com/python-visualization/folium).\n",
    "\n",
    "There are other great options out there too, [ipyleaflet](https://github.com/jupyter-widgets/ipyleaflet) is a great option for tight Jupyter notebook integration, while [GeoViews](http://geo.holoviews.org/) is another option for a HoloViews based interface."
   ]
  },
  {
   "cell_type": "code",
   "execution_count": null,
   "metadata": {},
   "outputs": [],
   "source": [
    "import folium \n",
    "\n",
    "\n",
    "m = folium.Map()\n",
    "\n",
    "style_function = lambda x: {'color': \"#808000\",\n",
    "                            'line_opacity': 0.5}\n",
    "m.add_child(\n",
    "    folium.GeoJson(\n",
    "        foggs_plan.__geo_interface__,\n",
    "        name=\"Fogg's proposed route\",\n",
    "        style_function=style_function,\n",
    "    )\n",
    ")\n",
    "m.fit_bounds(m.get_bounds())\n",
    "m"
   ]
  }
 ],
 "metadata": {
  "kernelspec": {
   "display_name": "Python 3",
   "language": "python",
   "name": "python3"
  },
  "language_info": {
   "codemirror_mode": {
    "name": "ipython",
    "version": 3
   },
   "file_extension": ".py",
   "mimetype": "text/x-python",
   "name": "python",
   "nbconvert_exporter": "python",
   "pygments_lexer": "ipython3",
   "version": "3.6.5"
  }
 },
 "nbformat": 4,
 "nbformat_minor": 2
}
