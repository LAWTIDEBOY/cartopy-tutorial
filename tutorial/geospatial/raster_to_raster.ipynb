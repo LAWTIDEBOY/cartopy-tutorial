{
 "cells": [
  {
   "cell_type": "markdown",
   "metadata": {},
   "source": [
    "# Cartopy tutorial: Transforming raster to raster\n",
    "\n",
    "[Introduction](../../introduction.ipynb) > [Geospatial data](../geospatial_data.ipynb) > Raster to raster"
   ]
  },
  {
   "cell_type": "markdown",
   "metadata": {},
   "source": [
    "## The 1870s decadal mean surface temperature dataset\n",
    "\n",
    "For the sake of brevity, the data required for this section is available in ``../../resources/HadCRUT/fogg_mean_surface_temp.nc`` and was pre-processed by the following [notebook](../../resources/HadCRUT/create_fogg_mean_surface_temp.ipynb).\n",
    "\n",
    "The data comes from [HadCRUT](https://en.wikipedia.org/wiki/HadCRUT) and is representative of decadal mean surface temperatures during the period of Foggs epic journey around the world in 1872.\n",
    "\n",
    "So, let's first take a peek inside the NetCDF file that contains the pre-processed 1870's decadal mean surface temperatures for the three representative months of Phileas Foggs journey during **October, November** and **December**..."
   ]
  },
  {
   "cell_type": "code",
   "execution_count": null,
   "metadata": {},
   "outputs": [],
   "source": [
    "fname = '../../resources/HadCRUT/fogg_mean_surface_temp.nc'"
   ]
  },
  {
   "cell_type": "code",
   "execution_count": null,
   "metadata": {},
   "outputs": [],
   "source": [
    "!ncdump -h $fname"
   ]
  },
  {
   "cell_type": "markdown",
   "metadata": {},
   "source": [
    "There are a wide variety of open source tools at our disposal to read and extract this data from our netCDF file. However, we've chosen to do this with [iris](https://github.com/SciTools/iris) as it's ideal for performing the task of loading, analyzing and plotting such data. \n",
    "\n",
    "Other approaches, including NetCDF4-python and XArray can be seen in the tutorial's [appendix](../../appendix/raster_to_raster/netcdf_and_xarray.ipynb)."
   ]
  },
  {
   "cell_type": "markdown",
   "metadata": {},
   "source": [
    "## Using iris and cartopy\n",
    "\n",
    "Iris implements a data model based on the [CF conventions](http://cfconventions.org/)\n",
    "giving you a powerful, format-agnostic interface for working with your data.\n",
    "It excels when working with multi-dimensional Earth Science data, where tabular\n",
    "representations become unwieldy and inefficient.\n",
    "\n",
    "Building upon [NumPy](http://www.numpy.org/) and [dask](https://dask.pydata.org/en/latest/),\n",
    "Iris scales from efficient single-machine workflows right through to multi-core clusters and HPC.\n",
    "Interoperability with packages from the wider scientific Python ecosystem comes from Iris'\n",
    "use of standard NumPy/dask arrays as its underlying data storage.\n",
    "\n",
    "Now let's load our decadal mean surface temperature data for **October** using `iris`, and generate some raster block and countour plots..."
   ]
  },
  {
   "cell_type": "code",
   "execution_count": null,
   "metadata": {},
   "outputs": [],
   "source": [
    "import iris\n",
    "\n",
    "cube = iris.load_cube(fname)"
   ]
  },
  {
   "cell_type": "code",
   "execution_count": null,
   "metadata": {},
   "outputs": [],
   "source": [
    "cube"
   ]
  },
  {
   "cell_type": "markdown",
   "metadata": {},
   "source": [
    "First, let's take a quick peek at some of the cube metadata, just to make sure that all is as expected... "
   ]
  },
  {
   "cell_type": "code",
   "execution_count": null,
   "metadata": {},
   "outputs": [],
   "source": [
    "print(cube.coord('decade').points)"
   ]
  },
  {
   "cell_type": "code",
   "execution_count": null,
   "metadata": {},
   "outputs": [],
   "source": [
    "print(cube.coord('month_number').points)"
   ]
  },
  {
   "cell_type": "code",
   "execution_count": null,
   "metadata": {},
   "outputs": [],
   "source": [
    "print(cube.coord('time'))"
   ]
  },
  {
   "cell_type": "markdown",
   "metadata": {},
   "source": [
    "Okay, all seem's to be as we expected. So now let's cherry-pick out the data that we require in order to visualize the decadal mean surface temperature for **October** 1870s using a **Robinson** projection..."
   ]
  },
  {
   "cell_type": "code",
   "execution_count": null,
   "metadata": {},
   "outputs": [],
   "source": [
    "%matplotlib notebook\n",
    "\n",
    "import cartopy.crs as ccrs\n",
    "import iris.plot as iplt\n",
    "import matplotlib.pyplot as plt"
   ]
  },
  {
   "cell_type": "code",
   "execution_count": null,
   "metadata": {},
   "outputs": [],
   "source": [
    "plt.figure()\n",
    "\n",
    "october_cube = cube.extract(iris.Constraint(month_number=10))\n",
    "\n",
    "ax1 = plt.subplot(211, projection=ccrs.Robinson())\n",
    "iplt.pcolormesh(october_cube)\n",
    "plt.title('pcolormesh')\n",
    "ax1.coastlines()\n",
    "ax1.set_global()\n",
    "\n",
    "ax2 = plt.subplot(212, projection=ccrs.Robinson())\n",
    "iplt.contourf(october_cube)\n",
    "plt.title('contourf')\n",
    "ax2.coastlines()\n",
    "ax2.set_global()\n",
    "\n",
    "plt.tight_layout()\n",
    "plt.show()"
   ]
  },
  {
   "cell_type": "markdown",
   "metadata": {},
   "source": [
    "## Reprojecting raster images\n",
    "\n",
    "As we have previously seen, we can leverage the power of `cartopy` to plot raster images.\n",
    "\n",
    "Recall the exercise to plot the geolocated [Wikipedia image](https://commons.wikimedia.org/wiki/File:Around_the_World_in_Eighty_Days_map.png) of Foggs proposed route in its native `Robinson` projection..."
   ]
  },
  {
   "cell_type": "code",
   "execution_count": null,
   "metadata": {},
   "outputs": [],
   "source": [
    "# Our calculated geolocated raster image extents.\n",
    "extent = [-13636707, 17044670,\n",
    "          -6308712, 8565930]\n",
    "\n",
    "plt.figure()\n",
    "\n",
    "fname = '../../resources/640px-Around_the_World_in_Eighty_Days_map.png'\n",
    "\n",
    "rob = ccrs.Robinson(central_longitude=11.25)\n",
    "ax = plt.axes(projection=rob)\n",
    "\n",
    "ax.gridlines(color='gray', linestyle='--')\n",
    "ax.coastlines()\n",
    "img = plt.imread(fname)\n",
    "ax.imshow(img, extent=extent, transform=rob, origin='upper')\n",
    "ax.set_global()\n",
    "\n",
    "plt.tight_layout()\n",
    "plt.show()"
   ]
  },
  {
   "cell_type": "markdown",
   "metadata": {},
   "source": [
    "We can use `cartopy` to reproject raster images to a different (non-native) target projection.\n",
    "\n",
    "So let's do that, by reprojecting our [Wikipedia image](https://commons.wikimedia.org/wiki/File:Around_the_World_in_Eighty_Days_map.png) from `Robinson` to `Plate Carree` projection..."
   ]
  },
  {
   "cell_type": "code",
   "execution_count": null,
   "metadata": {},
   "outputs": [],
   "source": [
    "plt.figure()\n",
    "\n",
    "ax = plt.axes(projection=ccrs.PlateCarree())\n",
    "ax.gridlines(color='gray', linestyle='--')\n",
    "ax.coastlines()\n",
    "\n",
    "img = plt.imread(fname)\n",
    "ax.imshow(img, extent=extent, transform=rob, origin='upper')\n",
    "ax.set_global()\n",
    "\n",
    "plt.tight_layout()\n",
    "plt.show()"
   ]
  },
  {
   "cell_type": "markdown",
   "metadata": {},
   "source": [
    "For faster and higher fidelity image reprojections [rasterio](https://github.com/mapbox/rasterio) would be a great choice, but cartopy's general (spherical) implementation is a good fall-back option.   "
   ]
  },
  {
   "cell_type": "markdown",
   "metadata": {},
   "source": [
    "**Exercise 3.1:** Use `iris` to plot the decadal mean surface temperatures for **October** 1870s, using either a block or contour plot, over the above [Wikipedia image](https://commons.wikimedia.org/wiki/File:Around_the_World_in_Eighty_Days_map.png) in a `Plate Carree` projection."
   ]
  },
  {
   "cell_type": "code",
   "execution_count": null,
   "metadata": {},
   "outputs": [],
   "source": [
    "# EXERCISE 3.1:\n",
    "\n"
   ]
  },
  {
   "cell_type": "code",
   "execution_count": null,
   "metadata": {},
   "outputs": [],
   "source": [
    "%load ../solutions/exercise-3.1"
   ]
  }
 ],
 "metadata": {
  "kernelspec": {
   "display_name": "Python 3",
   "language": "python",
   "name": "python3"
  },
  "language_info": {
   "codemirror_mode": {
    "name": "ipython",
    "version": 3
   },
   "file_extension": ".py",
   "mimetype": "text/x-python",
   "name": "python",
   "nbconvert_exporter": "python",
   "pygments_lexer": "ipython3",
   "version": "3.6.5"
  }
 },
 "nbformat": 4,
 "nbformat_minor": 2
}
