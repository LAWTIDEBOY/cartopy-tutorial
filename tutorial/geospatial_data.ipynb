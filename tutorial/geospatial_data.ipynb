{
 "cells": [
  {
   "cell_type": "markdown",
   "metadata": {},
   "source": [
    "# Geospatial data"
   ]
  },
  {
   "cell_type": "markdown",
   "metadata": {},
   "source": [
    "## Purpose\n",
    "\n",
    "The purpose of this section is to give you an overview of the core geospatial data types particularly with respect to cartopy. This will help you to:\n",
    " \n",
    " * recognise the type of data you are dealing with\n",
    " * experience some of the tools at your disposal, and see how well they interoperate\n",
    " * choose appropriate analysis/visualization tools and techniques for your data"
   ]
  },
  {
   "cell_type": "markdown",
   "metadata": {},
   "source": [
    "**Activity**: When talking about geospatial data, it is common to refer to \"vector\" and \"raster\" data types. Work in small groups to discuss real-life examples of these two main types of data. What examples have we already seen?"
   ]
  },
  {
   "cell_type": "markdown",
   "metadata": {},
   "source": [
    "We saw in the [last section](cartopy_and_matplotlib.ipynb) a number of ways of visualising vector and raster data, but often we need to convert from one to the other in order to produce a particular analysis or visualisation. \n",
    "Let's look at cartopy & friends to see how examples of how we might convert between the two main geospatial datatypes."
   ]
  },
  {
   "cell_type": "markdown",
   "metadata": {},
   "source": [
    " ## Outline\n",
    " \n",
    " * [Vector to Vector](geospatial/vector_to_vector.ipynb)\n",
    " * [Raster to Vector](geospatial/raster_to_vector.ipynb)\n",
    " * [Raster to Raster](geospatial/raster_to_raster.ipynb)\n",
    " * [Vector to Raster](geospatial/vector_to_raster.ipynb)"
   ]
  }
 ],
 "metadata": {
  "kernelspec": {
   "display_name": "Python 3",
   "language": "python",
   "name": "python3"
  },
  "language_info": {
   "codemirror_mode": {
    "name": "ipython",
    "version": 3
   },
   "file_extension": ".py",
   "mimetype": "text/x-python",
   "name": "python",
   "nbconvert_exporter": "python",
   "pygments_lexer": "ipython3",
   "version": "3.5.4"
  }
 },
 "nbformat": 4,
 "nbformat_minor": 2
}
