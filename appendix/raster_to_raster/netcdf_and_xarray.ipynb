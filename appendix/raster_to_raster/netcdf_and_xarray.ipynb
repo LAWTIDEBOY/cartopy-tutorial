{
 "cells": [
  {
   "cell_type": "markdown",
   "metadata": {},
   "source": [
    "# Cartopy tutorial: Appendix for raster to raster"
   ]
  },
  {
   "cell_type": "markdown",
   "metadata": {},
   "source": [
    "Here are some alternative approaches to exploring the decadal mean surface temperature data using `python-netcdf4` and `xarray`. Originally we were going to include this in the main part of the tutorial, but we felt that it didn't add any real value to the technical narrative of the tutorial.\n",
    "\n",
    "Rather that purge this contents completely, we decided to archive it here in the appendix, as it may be helpful to any interested tutorial readers."
   ]
  },
  {
   "cell_type": "markdown",
   "metadata": {},
   "source": [
    "----"
   ]
  },
  {
   "cell_type": "markdown",
   "metadata": {},
   "source": [
    "Let's remind ourselves of the source netCDF file containing the pre-processed decadal mean surface temperatures for Oct-Dec 1870s..."
   ]
  },
  {
   "cell_type": "code",
   "execution_count": null,
   "metadata": {},
   "outputs": [],
   "source": [
    "fname = '../../resources/HadCRUT/fogg_mean_surface_temp.nc'"
   ]
  },
  {
   "cell_type": "code",
   "execution_count": null,
   "metadata": {},
   "outputs": [],
   "source": [
    "!ncdump -h $fname"
   ]
  },
  {
   "cell_type": "markdown",
   "metadata": {},
   "source": [
    "## Using netCDF4 and cartopy\n",
    "\n",
    "Let's go back to basics and use `netCDF4` to load the appropriate decadal surface temperature data and visulize it using `cartopy`..."
   ]
  },
  {
   "cell_type": "code",
   "execution_count": null,
   "metadata": {},
   "outputs": [],
   "source": [
    "import netCDF4 as nc"
   ]
  },
  {
   "cell_type": "code",
   "execution_count": null,
   "metadata": {},
   "outputs": [],
   "source": [
    "ds = nc.Dataset(fname)"
   ]
  },
  {
   "cell_type": "code",
   "execution_count": null,
   "metadata": {},
   "outputs": [],
   "source": [
    "print(sorted(ds.variables.keys()))"
   ]
  },
  {
   "cell_type": "markdown",
   "metadata": {},
   "source": [
    "Now we have a handle to the netCDF dataset, we can perform a cursory inspection of its metadata..."
   ]
  },
  {
   "cell_type": "code",
   "execution_count": null,
   "metadata": {},
   "outputs": [],
   "source": [
    "ds.variables['mean_surface_temperature'][:]"
   ]
  },
  {
   "cell_type": "code",
   "execution_count": null,
   "metadata": {},
   "outputs": [],
   "source": [
    "print(ds.variables['decade'][:])"
   ]
  },
  {
   "cell_type": "code",
   "execution_count": null,
   "metadata": {},
   "outputs": [],
   "source": [
    "print(ds.variables['month_number'][:])"
   ]
  },
  {
   "cell_type": "markdown",
   "metadata": {},
   "source": [
    "Okay, all seem's to be as we expected, so now cherry-pick out the data that we require in order to visualize the decadal mean surface temperature for **October** 1870s..."
   ]
  },
  {
   "cell_type": "code",
   "execution_count": null,
   "metadata": {},
   "outputs": [],
   "source": [
    "data = ds.variables['mean_surface_temperature'][:][0]\n",
    "lats = ds.variables['latitude'][:]\n",
    "lons = ds.variables['longitude'][:]"
   ]
  },
  {
   "cell_type": "code",
   "execution_count": null,
   "metadata": {},
   "outputs": [],
   "source": [
    "print('data.shape {}\\nlats.shape {}\\nlons.shape {}'.format(data.shape, lats.shape, lons.shape))"
   ]
  },
  {
   "cell_type": "markdown",
   "metadata": {},
   "source": [
    "Before we plot this data, we'll first need to massage the gridded 1-dimensional latitudes and longitudes so that they completely span our 2-dimensional dataset... "
   ]
  },
  {
   "cell_type": "code",
   "execution_count": null,
   "metadata": {},
   "outputs": [],
   "source": [
    "import numpy as np\n",
    "\n",
    "xx, yy = np.meshgrid(lons, lats)"
   ]
  },
  {
   "cell_type": "markdown",
   "metadata": {},
   "source": [
    "Now, let's create a block plot and filled contour plot of the data projected onto a Plate Carree map... "
   ]
  },
  {
   "cell_type": "code",
   "execution_count": null,
   "metadata": {},
   "outputs": [],
   "source": [
    "%matplotlib notebook\n",
    "\n",
    "import cartopy.crs as ccrs\n",
    "import matplotlib.pyplot as plt\n",
    "import numpy as np"
   ]
  },
  {
   "cell_type": "code",
   "execution_count": null,
   "metadata": {},
   "outputs": [],
   "source": [
    "plt.figure()\n",
    "\n",
    "pc = ccrs.PlateCarree()\n",
    "\n",
    "ax1 = plt.subplot(211, projection=pc)\n",
    "ax1.pcolormesh(xx, yy, data, transform=pc)\n",
    "ax1.coastlines()\n",
    "ax1.set_global()\n",
    "\n",
    "ax2 = plt.subplot(212, projection=pc)\n",
    "ax2.contourf(xx, yy, data, transform=pc)\n",
    "ax2.coastlines()\n",
    "ax2.set_global()\n",
    "\n",
    "plt.tight_layout()\n",
    "plt.show()"
   ]
  },
  {
   "cell_type": "markdown",
   "metadata": {},
   "source": [
    "## Using xarray and cartopy\n",
    "\n",
    "Now let's leverage the benefit of `xarray`..."
   ]
  },
  {
   "cell_type": "code",
   "execution_count": null,
   "metadata": {},
   "outputs": [],
   "source": [
    "import xarray as xr\n",
    "\n",
    "xds = xr.open_dataset(fname)"
   ]
  },
  {
   "cell_type": "code",
   "execution_count": null,
   "metadata": {},
   "outputs": [],
   "source": [
    "xds"
   ]
  },
  {
   "cell_type": "code",
   "execution_count": null,
   "metadata": {},
   "outputs": [],
   "source": [
    "print(xds['decade'])"
   ]
  },
  {
   "cell_type": "code",
   "execution_count": null,
   "metadata": {},
   "outputs": [],
   "source": [
    "print(xds['month_number'])"
   ]
  },
  {
   "cell_type": "code",
   "execution_count": null,
   "metadata": {},
   "outputs": [],
   "source": [
    "print(xds['time'])"
   ]
  },
  {
   "cell_type": "code",
   "execution_count": null,
   "metadata": {},
   "outputs": [],
   "source": [
    "print(xds['time_bnds'])"
   ]
  },
  {
   "cell_type": "code",
   "execution_count": null,
   "metadata": {},
   "outputs": [],
   "source": [
    "plt.figure()\n",
    "\n",
    "ax = plt.axes(projection=ccrs.PlateCarree())\n",
    "kwargs = dict(ax=ax, transform=pc, x='longitude', y='latitude', cbar_kwargs=dict(orientation='horizontal'))\n",
    "xds['mean_surface_temperature'][0].plot.contourf(**kwargs)\n",
    "ax.coastlines()\n",
    "ax.set_global()\n",
    "\n",
    "plt.show()"
   ]
  },
  {
   "cell_type": "markdown",
   "metadata": {},
   "source": [
    "As from [v0.10.1](http://xarray.pydata.org/en/stable/whats-new.html#id54) of `xarray`, the community can now leverage the benefit of data interoperability between `xarray` and `iris` thanks to the [xarray.DataArray.from_iris](http://xarray.pydata.org/en/stable/generated/xarray.DataArray.from_iris.html) and [xarray.DataArray.to_iris](http://xarray.pydata.org/en/stable/generated/xarray.DataArray.to_iris.html) methods."
   ]
  },
  {
   "cell_type": "code",
   "execution_count": null,
   "metadata": {},
   "outputs": [],
   "source": [
    "xcube = xds['mean_surface_temperature'].to_iris()"
   ]
  },
  {
   "cell_type": "code",
   "execution_count": null,
   "metadata": {},
   "outputs": [],
   "source": [
    "xcube"
   ]
  },
  {
   "cell_type": "code",
   "execution_count": null,
   "metadata": {},
   "outputs": [],
   "source": [
    "import iris.plot as iplt\n",
    "\n",
    "plt.figure()\n",
    "\n",
    "iplt.contourf(xcube[0])\n",
    "plt.gca().coastlines()\n",
    "\n",
    "plt.show()"
   ]
  },
  {
   "cell_type": "code",
   "execution_count": null,
   "metadata": {},
   "outputs": [],
   "source": []
  }
 ],
 "metadata": {
  "kernelspec": {
   "display_name": "Python 3",
   "language": "python",
   "name": "python3"
  },
  "language_info": {
   "codemirror_mode": {
    "name": "ipython",
    "version": 3
   },
   "file_extension": ".py",
   "mimetype": "text/x-python",
   "name": "python",
   "nbconvert_exporter": "python",
   "pygments_lexer": "ipython3",
   "version": "3.6.5"
  }
 },
 "nbformat": 4,
 "nbformat_minor": 2
}
