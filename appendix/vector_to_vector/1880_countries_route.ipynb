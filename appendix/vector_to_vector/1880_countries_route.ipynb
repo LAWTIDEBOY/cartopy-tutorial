{
 "cells": [
  {
   "cell_type": "markdown",
   "metadata": {},
   "source": [
    "# Cartopy tutorial: Appendix for vector to vector"
   ]
  },
  {
   "cell_type": "markdown",
   "metadata": {},
   "source": [
    "For convenience, cartopy provides an object oriented shapefile reader interface that allows you to easily access and process shapefile geometries and their associated metadata.\n",
    "\n",
    "To support this, the [cartopy.io.shapereader.Reader](https://scitools.org.uk/cartopy/docs/latest/tutorials/using_the_shapereader.html#cartopy.io.shapereader.Reader) class provides the following methods:\n",
    "* [cartopy.io.shapereader.Reader.geometries](https://scitools.org.uk/cartopy/docs/latest/tutorials/using_the_shapereader.html#cartopy.io.shapereader.Reader.geometries)\n",
    "* [cartopy.io.shapereader.Reader.records](https://scitools.org.uk/cartopy/docs/latest/tutorials/using_the_shapereader.html#cartopy.io.shapereader.Reader.records)\n",
    "\n",
    "Of particular interest is the [records](https://scitools.org.uk/cartopy/docs/latest/tutorials/using_the_shapereader.html#cartopy.io.shapereader.Reader.records) method, which returns an iterator of [cartopy.io.shapereader.Record](https://scitools.org.uk/cartopy/docs/latest/tutorials/using_the_shapereader.html#cartopy.io.shapereader.Record)s.\n",
    "\n",
    "Each such [Record](https://scitools.org.uk/cartopy/docs/latest/tutorials/using_the_shapereader.html#cartopy.io.shapereader.Record) conveniently contains the [attributes](https://scitools.org.uk/cartopy/docs/latest/tutorials/using_the_shapereader.html#cartopy.io.shapereader.Record.attributes) metadata, [bounds](https://scitools.org.uk/cartopy/docs/latest/tutorials/using_the_shapereader.html#cartopy.io.shapereader.Record.bounds) and [geometry](https://scitools.org.uk/cartopy/docs/latest/tutorials/using_the_shapereader.html#cartopy.io.shapereader.Record.geometry) of the associated entry in the shapefile.\n",
    "\n",
    "Note that, if you are only interested in the geometries of the shapefile, simply use [cartopy.io.shapereader.Reader.geometries](https://scitools.org.uk/cartopy/docs/latest/tutorials/using_the_shapereader.html#cartopy.io.shapereader.Reader.geometries) method rather than the [geometry](https://scitools.org.uk/cartopy/docs/latest/tutorials/using_the_shapereader.html#cartopy.io.shapereader.Record.geometry) method of each [Record](https://scitools.org.uk/cartopy/docs/latest/tutorials/using_the_shapereader.html#cartopy.io.shapereader.Record)."
   ]
  },
  {
   "cell_type": "markdown",
   "metadata": {},
   "source": [
    "So, let's now bring this all together somewhat and use the [cartopy.io.shapereader.Reader](https://scitools.org.uk/cartopy/docs/latest/tutorials/using_the_shapereader.html#cartopy.io.shapereader.Reader) to inspect the metadata of a single shapefile entry..."
   ]
  },
  {
   "cell_type": "code",
   "execution_count": null,
   "metadata": {},
   "outputs": [],
   "source": [
    "import cartopy.crs as ccrs\n",
    "import cartopy.io.shapereader as shpreader\n",
    "import shapely.geometry as sgeom"
   ]
  },
  {
   "cell_type": "code",
   "execution_count": null,
   "metadata": {},
   "outputs": [],
   "source": [
    "fname = '../../resources/1880_countries/cntry1880.shp'\n",
    "\n",
    "reader = shpreader.Reader(fname)\n",
    "record = next(reader.records())"
   ]
  },
  {
   "cell_type": "code",
   "execution_count": null,
   "metadata": {},
   "outputs": [],
   "source": [
    "print(record.attributes)"
   ]
  },
  {
   "cell_type": "code",
   "execution_count": null,
   "metadata": {},
   "outputs": [],
   "source": [
    "print(record.bounds)"
   ]
  },
  {
   "cell_type": "code",
   "execution_count": null,
   "metadata": {},
   "outputs": [],
   "source": [
    "print(record.geometry)"
   ]
  },
  {
   "cell_type": "markdown",
   "metadata": {},
   "source": [
    "**Exercise:** Use the shapefile of 1880s countries found in ``../../resources/1880_countries/cntry1880.shp`` to find the names of the countries that Fogg plans to pass through."
   ]
  },
  {
   "cell_type": "markdown",
   "metadata": {},
   "source": [
    "Here is some necessary connective tissue, originally presented in [vector to vector](../../tutorial/geospatial/vector_to_vector.ipynb) tutorial, to help you complete this exercise..."
   ]
  },
  {
   "cell_type": "code",
   "execution_count": null,
   "metadata": {},
   "outputs": [],
   "source": [
    "# Some approximate locations of each of the cities are provided.\n",
    "places = {'London': {'lon': -0.1278, 'lat': 51.5074},\n",
    "          'Suez': {'lon': 32.5498, 'lat': 29.9668},\n",
    "          'Bombay': {'lon': 72.8777, 'lat': 19.0760},\n",
    "          'Calcutta': {'lon': 88.3639, 'lat': 22.5726},\n",
    "          'Hong Kong': {'lon': 114.1095, 'lat': 22.3964},\n",
    "          'Yokohama': {'lon': 139.6380, 'lat': 35.4437},\n",
    "          'San Fransisco': {'lon': -122.4194, 'lat': 37.7749},\n",
    "          'New York City': {'lon': -74.0060, 'lat': 40.7128},\n",
    "         }\n",
    "\n",
    "destinations = [\n",
    "    'London', 'Suez', 'Bombay', 'Calcutta', 'Hong Kong',\n",
    "    'Yokohama', 'San Fransisco', 'New York City', 'London']\n",
    "\n",
    "waypoints = [(places[place]['lon'], places[place]['lat'])\n",
    "             for place in destinations]\n",
    "\n",
    "line = sgeom.LineString(waypoints)\n",
    "pc = ccrs.PlateCarree()\n",
    "\n",
    "foggs_plan = pc.project_geometry(line, ccrs.Geodetic())"
   ]
  },
  {
   "cell_type": "code",
   "execution_count": null,
   "metadata": {},
   "outputs": [],
   "source": [
    "# EXERCISE SOLUTION\n",
    "\n",
    "country_records = shpreader.Reader(fname).records()\n",
    "\n",
    "passed_countries = []\n",
    "for country in country_records:\n",
    "    if country.geometry.intersects(foggs_plan):\n",
    "        passed_countries.append(country.attributes['NAME'])\n",
    "\n",
    "print('Countries that Fogg will pass through with the proposed route:')\n",
    "print('\\n'.join(sorted(passed_countries)))"
   ]
  },
  {
   "cell_type": "code",
   "execution_count": null,
   "metadata": {},
   "outputs": [],
   "source": []
  }
 ],
 "metadata": {
  "kernelspec": {
   "display_name": "Python 3",
   "language": "python",
   "name": "python3"
  },
  "language_info": {
   "codemirror_mode": {
    "name": "ipython",
    "version": 3
   },
   "file_extension": ".py",
   "mimetype": "text/x-python",
   "name": "python",
   "nbconvert_exporter": "python",
   "pygments_lexer": "ipython3",
   "version": "3.6.5"
  }
 },
 "nbformat": 4,
 "nbformat_minor": 2
}
